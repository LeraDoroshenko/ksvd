{
  "nbformat": 4,
  "nbformat_minor": 0,
  "metadata": {
    "colab": {
      "provenance": [],
      "authorship_tag": "ABX9TyP7GKwCoR1sOb6smudTnrE0",
      "include_colab_link": true
    },
    "kernelspec": {
      "name": "python3",
      "display_name": "Python 3"
    },
    "language_info": {
      "name": "python"
    }
  },
  "cells": [
    {
      "cell_type": "markdown",
      "metadata": {
        "id": "view-in-github",
        "colab_type": "text"
      },
      "source": [
        "<a href=\"https://colab.research.google.com/github/LeraDoroshenko/ksvd/blob/main/%D0%9B%D0%A0_%D0%94%D0%BE%D1%80%D0%BE%D1%88%D0%B5%D0%BD%D0%BA%D0%BE%D0%92_4_6.ipynb\" target=\"_parent\"><img src=\"https://colab.research.google.com/assets/colab-badge.svg\" alt=\"Open In Colab\"/></a>"
      ]
    },
    {
      "cell_type": "code",
      "execution_count": null,
      "metadata": {
        "id": "1KSwIbDvFazz"
      },
      "outputs": [],
      "source": [
        "import pandas as pd\n",
        "import numpy as np\n",
        "import matplotlib.pyplot as plt\n",
        "import seaborn as sns\n",
        "from sklearn.model_selection import train_test_split\n",
        "from sklearn.preprocessing import StandardScaler\n",
        "from sklearn.metrics import accuracy_score, confusion_matrix, classification_report, roc_auc_score\n",
        "import torch\n",
        "import torch.nn as nn\n",
        "import torch.optim as optim"
      ]
    },
    {
      "cell_type": "code",
      "source": [
        "from google.colab import drive\n",
        "import pandas as pd\n",
        "drive.mount('/content/drive')\n",
        "df = pd.read_csv('/content/drive/My Drive/Colab Notebooks/data.csv')\n",
        "print(df.head())\n",
        "print(df.info())\n",
        "print(df.describe())"
      ],
      "metadata": {
        "colab": {
          "base_uri": "https://localhost:8080/"
        },
        "id": "HeAEU_8zGL3L",
        "outputId": "91bcdf8c-5103-4773-d5ad-5fea47b00cf6"
      },
      "execution_count": null,
      "outputs": [
        {
          "output_type": "stream",
          "name": "stdout",
          "text": [
            "Drive already mounted at /content/drive; to attempt to forcibly remount, call drive.mount(\"/content/drive\", force_remount=True).\n",
            "   Phoenix Feather  Unicorn Horn  Dragon's Blood  Mermaid Tears  Fairy Dust  \\\n",
            "0              2.4          18.7            18.4           27.9         7.9   \n",
            "1              2.1           6.0            15.0           13.3        15.6   \n",
            "2             17.2          13.9            23.8            6.8        10.7   \n",
            "3              8.4           9.7             6.8           26.9         4.6   \n",
            "4             22.1          10.8            16.4           10.5        22.0   \n",
            "\n",
            "   Goblin Toes  Witch's Brew  Griffin Claw  Troll Hair  Kraken Ink  \\\n",
            "0          9.6          18.3          13.2         2.5        26.0   \n",
            "1         13.1          11.0           5.0         7.2        26.0   \n",
            "2         15.8          19.4           2.7        15.4        21.2   \n",
            "3         29.1          14.6          19.7        18.0        20.8   \n",
            "4         23.4           2.6          18.2        23.8        11.3   \n",
            "\n",
            "   Minotaur Horn  Basilisk Scale  Chimera Fang  Cured  \n",
            "0           10.5            26.2          12.5      0  \n",
            "1            1.5            13.3           6.2      0  \n",
            "2           11.1            16.6          11.4      1  \n",
            "3           13.6            13.9           8.1      1  \n",
            "4            5.5            16.8          16.2      0  \n",
            "<class 'pandas.core.frame.DataFrame'>\n",
            "RangeIndex: 2338 entries, 0 to 2337\n",
            "Data columns (total 14 columns):\n",
            " #   Column           Non-Null Count  Dtype  \n",
            "---  ------           --------------  -----  \n",
            " 0   Phoenix Feather  2338 non-null   float64\n",
            " 1   Unicorn Horn     2338 non-null   float64\n",
            " 2   Dragon's Blood   2338 non-null   float64\n",
            " 3   Mermaid Tears    2338 non-null   float64\n",
            " 4   Fairy Dust       2338 non-null   float64\n",
            " 5   Goblin Toes      2338 non-null   float64\n",
            " 6   Witch's Brew     2338 non-null   float64\n",
            " 7   Griffin Claw     2338 non-null   float64\n",
            " 8   Troll Hair       2338 non-null   float64\n",
            " 9   Kraken Ink       2338 non-null   float64\n",
            " 10  Minotaur Horn    2338 non-null   float64\n",
            " 11  Basilisk Scale   2338 non-null   float64\n",
            " 12  Chimera Fang     2338 non-null   float64\n",
            " 13  Cured            2338 non-null   int64  \n",
            "dtypes: float64(13), int64(1)\n",
            "memory usage: 255.8 KB\n",
            "None\n",
            "       Phoenix Feather  Unicorn Horn  Dragon's Blood  Mermaid Tears  \\\n",
            "count      2338.000000   2338.000000     2338.000000    2338.000000   \n",
            "mean         15.365697     10.946749       16.115654      13.627973   \n",
            "std           8.669969      7.225162        8.372518       7.545244   \n",
            "min           1.000000      1.000000        1.000000       1.000000   \n",
            "25%           8.500000      5.300000        9.600000       7.600000   \n",
            "50%          14.700000      9.500000       15.800000      13.100000   \n",
            "75%          21.300000     15.575000       22.000000      19.000000   \n",
            "max          42.100000     34.100000       40.800000      35.800000   \n",
            "\n",
            "        Fairy Dust  Goblin Toes  Witch's Brew  Griffin Claw   Troll Hair  \\\n",
            "count  2338.000000  2338.000000   2338.000000   2338.000000  2338.000000   \n",
            "mean     15.069504    14.157271     12.328914     14.911206    16.871685   \n",
            "std       8.349340     7.831476      7.709753      8.132678     9.579027   \n",
            "min       1.000000     1.000000      1.000000      1.000000     1.000000   \n",
            "25%       8.625000     7.900000      6.325000      8.400000     8.900000   \n",
            "50%      14.500000    13.500000     11.200000     14.400000    16.300000   \n",
            "75%      20.700000    19.500000     16.900000     20.500000    24.000000   \n",
            "max      40.400000    37.800000     37.300000     39.400000    44.800000   \n",
            "\n",
            "        Kraken Ink  Minotaur Horn  Basilisk Scale  Chimera Fang        Cured  \n",
            "count  2338.000000    2338.000000     2338.000000   2338.000000  2338.000000  \n",
            "mean     14.890590      10.916125       15.371600     12.084003     0.496578  \n",
            "std       8.014197       7.045195        8.559139      8.047540     0.500095  \n",
            "min       1.000000       1.000000        1.000000      1.000000     0.000000  \n",
            "25%       8.800000       5.200000        8.800000      5.600000     0.000000  \n",
            "50%      14.400000       9.700000       14.800000     10.500000     0.000000  \n",
            "75%      20.400000      15.375000       21.100000     17.275000     1.000000  \n",
            "max      39.500000      33.700000       42.000000     37.800000     1.000000  \n"
          ]
        }
      ]
    },
    {
      "cell_type": "code",
      "source": [
        "print(df.isnull().sum())"
      ],
      "metadata": {
        "colab": {
          "base_uri": "https://localhost:8080/"
        },
        "id": "DQEKFccIekR2",
        "outputId": "fae4a4fa-3c57-4bea-83e2-43ad60de6e76"
      },
      "execution_count": null,
      "outputs": [
        {
          "output_type": "stream",
          "name": "stdout",
          "text": [
            "Phoenix Feather    0\n",
            "Unicorn Horn       0\n",
            "Dragon's Blood     0\n",
            "Mermaid Tears      0\n",
            "Fairy Dust         0\n",
            "Goblin Toes        0\n",
            "Witch's Brew       0\n",
            "Griffin Claw       0\n",
            "Troll Hair         0\n",
            "Kraken Ink         0\n",
            "Minotaur Horn      0\n",
            "Basilisk Scale     0\n",
            "Chimera Fang       0\n",
            "Cured              0\n",
            "dtype: int64\n"
          ]
        }
      ]
    },
    {
      "cell_type": "code",
      "source": [
        "X = df.drop('Cured', axis=1)\n",
        "y = df['Cured']\n",
        "\n",
        "scaler = StandardScaler()\n",
        "X_scaled = scaler.fit_transform(X)\n",
        "\n",
        "X_train, X_test, y_train, y_test = train_test_split(X_scaled, y, test_size=0.2, random_state=42)"
      ],
      "metadata": {
        "id": "Z2PShmiofYWw"
      },
      "execution_count": null,
      "outputs": []
    },
    {
      "cell_type": "code",
      "source": [
        "X_train_tensor = torch.tensor(X_train, dtype=torch.float32)\n",
        "y_train_tensor = torch.tensor(y_train.values, dtype=torch.float32).view(-1, 1)\n",
        "X_test_tensor = torch.tensor(X_test, dtype=torch.float32)\n",
        "y_test_tensor = torch.tensor(y_test.values, dtype=torch.float32).view(-1, 1)"
      ],
      "metadata": {
        "id": "2GY3dHslgHIf"
      },
      "execution_count": null,
      "outputs": []
    },
    {
      "cell_type": "code",
      "source": [
        "class LogisticRegressionNN(nn.Module):\n",
        "    def __init__(self, input_dim):\n",
        "        super(LogisticRegressionNN, self).__init__()\n",
        "        self.linear = nn.Linear(input_dim, 1)\n",
        "\n",
        "    def forward(self, x):\n",
        "        return torch.sigmoid(self.linear(x))\n",
        "\n",
        "model = LogisticRegressionNN(X_train_tensor.shape[1])"
      ],
      "metadata": {
        "id": "ISHqYkrogn9T"
      },
      "execution_count": null,
      "outputs": []
    },
    {
      "cell_type": "code",
      "source": [
        "criterion = nn.BCELoss()\n",
        "optimizer = optim.Adam(model.parameters(), lr=0.01)\n",
        "losses = []\n",
        "\n",
        "for epoch in range(100):\n",
        "    model.train()\n",
        "    outputs = model(X_train_tensor)\n",
        "    loss = criterion(outputs, y_train_tensor)\n",
        "\n",
        "    optimizer.zero_grad()\n",
        "    loss.backward()\n",
        "    optimizer.step()\n",
        "\n",
        "    losses.append(loss.item())\n",
        "    if epoch % 10 == 0:\n",
        "        print(f\"Epoch {epoch}, Loss: {loss.item():.4f}\")"
      ],
      "metadata": {
        "colab": {
          "base_uri": "https://localhost:8080/"
        },
        "id": "LSi1KHRsgo2f",
        "outputId": "7029c1d5-54e1-4860-967c-8339d0f2e6e8"
      },
      "execution_count": null,
      "outputs": [
        {
          "output_type": "stream",
          "name": "stdout",
          "text": [
            "Epoch 0, Loss: 0.7785\n",
            "Epoch 10, Loss: 0.7148\n",
            "Epoch 20, Loss: 0.6718\n",
            "Epoch 30, Loss: 0.6405\n",
            "Epoch 40, Loss: 0.6144\n",
            "Epoch 50, Loss: 0.5913\n",
            "Epoch 60, Loss: 0.5705\n",
            "Epoch 70, Loss: 0.5517\n",
            "Epoch 80, Loss: 0.5345\n",
            "Epoch 90, Loss: 0.5190\n"
          ]
        }
      ]
    },
    {
      "cell_type": "code",
      "source": [
        "model.eval()\n",
        "with torch.no_grad():\n",
        "    y_pred_proba = model(X_test_tensor)\n",
        "    y_pred = (y_pred_proba >= 0.5).float()\n",
        "\n",
        "accuracy_nn = accuracy_score(y_test_tensor, y_pred)\n",
        "print(f\"\\nТочність (нейромережа): {accuracy_nn:.4f}\")\n",
        "print(\"\\nМатриця плутанини (нейромережа):\")\n",
        "print(confusion_matrix(y_test_tensor, y_pred))\n",
        "print(\"\\nКласифікаційний звіт (нейромережа):\")\n",
        "print(classification_report(y_test_tensor, y_pred))\n",
        "print(f\"AUC (нейромережа): {roc_auc_score(y_test_tensor, y_pred_proba):.4f}\")"
      ],
      "metadata": {
        "colab": {
          "base_uri": "https://localhost:8080/"
        },
        "id": "QaI-m-LOgrbz",
        "outputId": "3efd3d9e-0804-4db1-8932-e643fb10a4b1"
      },
      "execution_count": null,
      "outputs": [
        {
          "output_type": "stream",
          "name": "stdout",
          "text": [
            "\n",
            "Точність (нейромережа): 0.8355\n",
            "\n",
            "Матриця плутанини (нейромережа):\n",
            "[[208  23]\n",
            " [ 54 183]]\n",
            "\n",
            "Класифікаційний звіт (нейромережа):\n",
            "              precision    recall  f1-score   support\n",
            "\n",
            "         0.0       0.79      0.90      0.84       231\n",
            "         1.0       0.89      0.77      0.83       237\n",
            "\n",
            "    accuracy                           0.84       468\n",
            "   macro avg       0.84      0.84      0.83       468\n",
            "weighted avg       0.84      0.84      0.83       468\n",
            "\n",
            "AUC (нейромережа): 0.9036\n"
          ]
        }
      ]
    },
    {
      "cell_type": "code",
      "source": [
        "plt.plot(losses)\n",
        "plt.title('Функція втрат під час навчання')\n",
        "plt.xlabel('Епоха')\n",
        "plt.ylabel('Втрати')\n",
        "plt.grid()\n",
        "plt.show()"
      ],
      "metadata": {
        "colab": {
          "base_uri": "https://localhost:8080/",
          "height": 472
        },
        "id": "uSsSqfSKgv56",
        "outputId": "0e877be4-983a-464f-d46e-57fb5b4760ef"
      },
      "execution_count": null,
      "outputs": [
        {
          "output_type": "display_data",
          "data": {
            "text/plain": [
              "<Figure size 640x480 with 1 Axes>"
            ],
            "image/png": "[encoded data removed]"
          },
          "metadata": {}
        }
      ]
    },
    {
      "cell_type": "code",
      "source": [
        "from sklearn.linear_model import LogisticRegression\n",
        "model_sk = LogisticRegression()\n",
        "model_sk.fit(X_train, y_train)\n",
        "y_pred_sk = model_sk.predict(X_test)\n",
        "y_proba_sk = model_sk.predict_proba(X_test)[:, 1]"
      ],
      "metadata": {
        "id": "CoW7CUjDgxip"
      },
      "execution_count": null,
      "outputs": []
    },
    {
      "cell_type": "code",
      "source": [
        "print(\"\\nТочність (Logistic Regression - sklearn):\", accuracy_score(y_test, y_pred_sk))\n",
        "print(\"\\nМатриця плутанини (sklearn):\")\n",
        "print(confusion_matrix(y_test, y_pred_sk))\n",
        "print(\"\\nКласифікаційний звіт (sklearn):\")\n",
        "print(classification_report(y_test, y_pred_sk))\n",
        "print(f\"AUC (sklearn): {roc_auc_score(y_test, y_proba_sk):.4f}\")"
      ],
      "metadata": {
        "colab": {
          "base_uri": "https://localhost:8080/"
        },
        "id": "A_Y4oVocgz8N",
        "outputId": "14dabb57-7a5e-4b6b-edab-7ec70291fa3d"
      },
      "execution_count": null,
      "outputs": [
        {
          "output_type": "stream",
          "name": "stdout",
          "text": [
            "\n",
            "Точність (Logistic Regression - sklearn): 0.8931623931623932\n",
            "\n",
            "Матриця плутанини (sklearn):\n",
            "[[207  24]\n",
            " [ 26 211]]\n",
            "\n",
            "Класифікаційний звіт (sklearn):\n",
            "              precision    recall  f1-score   support\n",
            "\n",
            "           0       0.89      0.90      0.89       231\n",
            "           1       0.90      0.89      0.89       237\n",
            "\n",
            "    accuracy                           0.89       468\n",
            "   macro avg       0.89      0.89      0.89       468\n",
            "weighted avg       0.89      0.89      0.89       468\n",
            "\n",
            "AUC (sklearn): 0.9473\n"
          ]
        }
      ]
    },
    {
      "cell_type": "markdown",
      "source": [
        "Висновок\n",
        "\n",
        "В даній лабораторній роботі потрібно було спрогнозувати чи вилікується принцеса, на основі заданого датасету.\n",
        "\n",
        "Було оброблено дані, поділено датасет на тренувальну та тестову вибірки, маштабовано ознаки. Після було побудовано логістичну регресію за допомогою нейронної мережі.\n",
        "\n",
        "В результаті виконання завдань було отримано точність ~83.6% та AUC 0.90, що свідчить про доволі високу якість моделі.\n",
        "\n",
        "Для порівняння було побудовано класичну модель логістичної регресії, яка показала точність 89.32%, що є кращим результатом."
      ],
      "metadata": {
        "id": "rlOiUvffh3n4"
      }
    }
  ]
}